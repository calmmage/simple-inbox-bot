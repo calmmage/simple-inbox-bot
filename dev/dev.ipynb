{
 "cells": [
  {
   "cell_type": "code",
   "execution_count": null,
   "id": "973f11c3",
   "metadata": {},
   "outputs": [],
   "source": [
    "print(1)"
   ]
  },
  {
   "cell_type": "code",
   "execution_count": null,
   "id": "initial_id",
   "metadata": {},
   "outputs": [],
   "source": [
    "import nest_asyncio\n",
    "\n",
    "nest_asyncio.apply()"
   ]
  },
  {
   "cell_type": "code",
   "execution_count": null,
   "id": "8a9b7fe5",
   "metadata": {},
   "outputs": [],
   "source": [
    "from _app import App\n",
    "from aiogram import Router\n",
    "from aiogram.filters import Command, CommandStart\n",
    "from aiogram.types import Message\n",
    "from botspot import commands_menu\n",
    "from botspot.utils import send_safe\n",
    "\n",
    "router = Router()\n",
    "app = App()\n",
    "\n",
    "\n",
    "@commands_menu.botspot_command(\"start\", \"Start the bot\")\n",
    "@router.message(CommandStart())\n",
    "async def start_handler(message: Message):\n",
    "    logger.info(\"/start command received\")\n",
    "    await send_safe(message.chat.id, f\"Hello! Welcome to {app.name}!\")\n",
    "\n",
    "\n",
    "@commands_menu.botspot_command(\"help\", \"Show this help message\")\n",
    "@router.message(Command(\"help\"))\n",
    "async def help_handler(message: Message):\n",
    "    \"\"\"Basic help command handler\"\"\"\n",
    "    logger.info(\"/help command received\")\n",
    "    await send_safe(message.chat.id, f\"This is {app.name}. Use /start to begin.\")"
   ]
  },
  {
   "cell_type": "code",
   "execution_count": null,
   "id": "48b8cda1713a4d99",
   "metadata": {},
   "outputs": [],
   "source": [
    "# Initial setup (from your earlier code)\n",
    "from pathlib import Path\n",
    "from aiogram import Bot, Dispatcher\n",
    "from aiogram.client.default import DefaultBotProperties\n",
    "from aiogram.enums import ParseMode\n",
    "from botspot.core.bot_manager import BotManager\n",
    "from calmlib.utils import setup_logger\n",
    "from dotenv import load_dotenv\n",
    "from loguru import logger\n",
    "import asyncio\n",
    "import nest_asyncio\n",
    "\n",
    "nest_asyncio.apply()\n",
    "load_dotenv(Path.cwd() / \".env\")\n",
    "\n",
    "# router = Router()\n",
    "# from router import app, router\n",
    "\n",
    "dp = Dispatcher()\n",
    "dp.include_router(router)\n",
    "\n",
    "bot = Bot(\n",
    "    token=app.config.telegram_bot_token, default=DefaultBotProperties(parse_mode=ParseMode.HTML)\n",
    ")\n",
    "\n",
    "\n",
    "async def start_bot():\n",
    "    setup_logger(logger)\n",
    "    bm = BotManager(bot=bot)\n",
    "    bm.setup_dispatcher(dp)\n",
    "    await dp.start_polling(bot)\n",
    "\n",
    "\n",
    "# Start the bot\n",
    "asyncio.create_task(start_bot())\n",
    "print(\"Bot is running!\")"
   ]
  },
  {
   "cell_type": "code",
   "execution_count": null,
   "id": "7f310ca4679ac776",
   "metadata": {},
   "outputs": [],
   "source": []
  },
  {
   "cell_type": "code",
   "execution_count": null,
   "id": "79b437b63a70f595",
   "metadata": {},
   "outputs": [],
   "source": [
    "async def stop_bot():\n",
    "    await dp.stop_polling()\n",
    "\n",
    "\n",
    "# Run this in a separate cell to stop the bot\n",
    "await stop_bot()"
   ]
  },
  {
   "cell_type": "code",
   "execution_count": null,
   "id": "e3e1314e",
   "metadata": {},
   "outputs": [],
   "source": [
    "import importlib\n",
    "import botspot\n",
    "\n",
    "# import router\n",
    "\n",
    "importlib.reload(botspot)\n",
    "# from router import router  # Re-import the updated router\n",
    "\n",
    "# # Re-include the updated router in the dispatcher (if needed)\n",
    "# dp.include_router(router)\n",
    "# print(\"Router reloaded and re-included!\")"
   ]
  },
  {
   "cell_type": "code",
   "execution_count": null,
   "id": "e5bfaf49c67bb889",
   "metadata": {},
   "outputs": [],
   "source": []
  }
 ],
 "metadata": {
  "kernelspec": {
   "display_name": "Python 3",
   "language": "python",
   "name": "python3"
  },
  "language_info": {
   "codemirror_mode": {
    "name": "ipython",
    "version": 3
   },
   "file_extension": ".py",
   "mimetype": "text/x-python",
   "name": "python",
   "nbconvert_exporter": "python",
   "pygments_lexer": "ipython3",
   "version": "3.13.2"
  }
 },
 "nbformat": 4,
 "nbformat_minor": 5
}
